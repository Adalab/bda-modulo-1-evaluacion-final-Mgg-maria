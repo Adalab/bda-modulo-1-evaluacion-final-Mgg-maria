{
 "cells": [
  {
   "cell_type": "markdown",
   "metadata": {},
   "source": [
    "ANOTACIONES PREVIAS:\n",
    "- Las claves/keys de los dict son los str \"nombre\",\"precio\" y \"cantidad\".\n",
    "- El valor/value de los dict corresponderían a los valores que asignemos. \n",
    "- Ejemplo de par clave-valor: {\"nombre\":producto ,\"precio\":valor_precio ,\"cantidad\":valor_cantidad}{\"nombre\":producto ,\"precio\":valor_precio ,\"cantidad\":valor_cantidad}\n",
    "                                               producto1                                                                                producto2"
   ]
  },
  {
   "cell_type": "code",
   "execution_count": null,
   "metadata": {},
   "outputs": [],
   "source": [
    "# ESTRUCTURA DE UNA LISTA CON DICCIONARIOS DENTRO\n",
    "\n",
    "   #key      #valor   #key    #valor   #key     #valor\n",
    "[{'nombre': 'Camisa', 'precio': 20, 'cantidad': 40},\n",
    " {'nombre': 'Pantalón', 'precio': 30, 'cantidad': 30}]"
   ]
  },
  {
   "cell_type": "code",
   "execution_count": null,
   "metadata": {},
   "outputs": [],
   "source": [
    "# aquí estamos creando dos diccionarios para hacer pruebas de la estructura para agregar en diccionarios porque me da problemas la comprobacion de agregar_producto.\n",
    "\n",
    "dicionario = {'nombre': 'Camisa', 'precio': 20, 'cantidad': 40}\n",
    "dicionario2 = {'nombre': 'Pantalón', 'precio': 30, 'cantidad': 30}\n",
    "dic_total = []"
   ]
  },
  {
   "cell_type": "code",
   "execution_count": 24,
   "metadata": {},
   "outputs": [],
   "source": [
    "dic_total.append(dicionario)"
   ]
  },
  {
   "cell_type": "code",
   "execution_count": 25,
   "metadata": {},
   "outputs": [
    {
     "data": {
      "text/plain": [
       "[{'nombre': 'Camisa', 'precio': 20, 'cantidad': 40}]"
      ]
     },
     "execution_count": 25,
     "metadata": {},
     "output_type": "execute_result"
    }
   ],
   "source": [
    "dic_total"
   ]
  },
  {
   "cell_type": "code",
   "execution_count": 26,
   "metadata": {},
   "outputs": [],
   "source": [
    "dic_total.append(dicionario2)"
   ]
  },
  {
   "cell_type": "code",
   "execution_count": null,
   "metadata": {},
   "outputs": [
    {
     "data": {
      "text/plain": [
       "[{'nombre': 'Camisa', 'precio': 20, 'cantidad': 40},\n",
       " {'nombre': 'Pantalón', 'precio': 30, 'cantidad': 30}]"
      ]
     },
     "execution_count": 27,
     "metadata": {},
     "output_type": "execute_result"
    }
   ],
   "source": [
    "# Se añaden correctamente con el append()\n",
    "\n",
    "\n",
    "dic_total"
   ]
  },
  {
   "cell_type": "code",
   "execution_count": null,
   "metadata": {},
   "outputs": [],
   "source": []
  },
  {
   "cell_type": "code",
   "execution_count": null,
   "metadata": {},
   "outputs": [],
   "source": []
  },
  {
   "cell_type": "code",
   "execution_count": null,
   "metadata": {},
   "outputs": [],
   "source": [
    "class TiendaOnline:\n",
    "    def __init__(self):  #Método constructor. En este caso no añadimos parámetros \n",
    "\n",
    "# \n",
    "        self.inventario =  []             # El atributo inventario tiene que ser una LISTA en la que habrá diccionarios.              \n",
    "        self.ventas_totales = float()     # El atributo ventas_totales debe de ser un decimal, así que cambiamos el dato a tipo float.    \n",
    "\n",
    "    # Definimos el método agregar_producto                                  \n",
    "    def agregar_producto (self, nombre, precio, cantidad):                         # Añadimos como parámetros nombre, precio, cantidad\n",
    "\n",
    "                                                                                   # Las claves de los dict son los str \"nombre\",\"precio\" y \"cantidad\". Quedaria {nombre:producto} como par clave-valor del diccionario\n",
    "            for producto in self.inventario:\n",
    "                if producto[\"nombre\"] == nombre:                                        # Indexamos para acceder al \"nombre\" de nuestro producto(key del dict) con producto [\"nombre\"] y ver si existe\n",
    "                    producto[\"cantidad\"] += cantidad                                    # Aquí sumamos la cantidad nueva al producto existente (es decir, actualizamos la cantidad)\n",
    "                    print(\"El producto ya existe. Cantidad total actual:\", {cantidad})  # Accedemos directamente al diccionario que contiene el producto y actualizamos el valor de la clave 'cantidad'.                                                                              \n",
    "\n",
    "             # Si no existe, indicamos que añada un nuevo producto (si el valor asociado a la key \"nombre\" del producto no es igual al nombre que ingresemos):\n",
    "                                                                                                                                                                                                          \n",
    "                else: \n",
    "                    self.inventario.append({'nombre': nombre, 'precio': precio, 'cantidad': cantidad})  # Para añadir al diccionario los nuevo valores utilizamos .append(). \n",
    "                    print(\"Se ha añadido un nuevo producto:\", {nombre})            "
   ]
  },
  {
   "cell_type": "markdown",
   "metadata": {},
   "source": [
    "  Comprobación de método agregar_producto\n",
    "- (revisar append, no agrega producto)\n",
    "- Una vez funcione append, hacer revision con resto de métodos\n",
    "- ACTUALIZADO- APPEND FUNCIONA"
   ]
  },
  {
   "cell_type": "code",
   "execution_count": 76,
   "metadata": {},
   "outputs": [],
   "source": [
    "# Creamos un objeto de la clase TiendaOnline \n",
    "mi_tienda = TiendaOnline()"
   ]
  },
  {
   "cell_type": "code",
   "execution_count": 23,
   "metadata": {},
   "outputs": [
    {
     "data": {
      "text/plain": [
       "{'inventario': [], 'ventas_totales': 0.0}"
      ]
     },
     "execution_count": 23,
     "metadata": {},
     "output_type": "execute_result"
    }
   ],
   "source": [
    "# Se comprueba si devuelve la información proporcionada en el método constructor. (El nombre del objeto.__dict__  nos muestra la información guardada en __init__)\n",
    "mi_tienda.__dict__\n"
   ]
  },
  {
   "cell_type": "code",
   "execution_count": null,
   "metadata": {},
   "outputs": [],
   "source": [
    "# agregamos utilizando el método\n",
    "mi_tienda.agregar_producto(\"manzana\", 2, 3)"
   ]
  },
  {
   "cell_type": "code",
   "execution_count": null,
   "metadata": {},
   "outputs": [
    {
     "data": {
      "text/plain": [
       "{'inventario': [], 'ventas_totales': 0.0}"
      ]
     },
     "execution_count": 25,
     "metadata": {},
     "output_type": "execute_result"
    }
   ],
   "source": [
    "# al imprimir debería salirnos\n",
    "mi_tienda.__dict__"
   ]
  },
  {
   "cell_type": "code",
   "execution_count": null,
   "metadata": {},
   "outputs": [],
   "source": []
  },
  {
   "cell_type": "code",
   "execution_count": null,
   "metadata": {},
   "outputs": [],
   "source": []
  },
  {
   "cell_type": "code",
   "execution_count": null,
   "metadata": {},
   "outputs": [],
   "source": [
    "#SEGUNDA PRUEBA MÉTODO AGREGAR PRODUCTO APPEND (con return)"
   ]
  },
  {
   "cell_type": "code",
   "execution_count": null,
   "metadata": {},
   "outputs": [],
   "source": [
    "class TiendaOnline:\n",
    "    def __init__(self):  #Método constructor. En este caso no añadimos parámetros \n",
    "\n",
    " \n",
    "        self.inventario =  []             # El atributo inventario tiene que ser una LISTA en la que habrá diccionarios.              \n",
    "        self.ventas_totales = float()     # El atributo ventas_totales debe de ser un decimal, así que cambiamos el dato a tipo float.    \n",
    "\n",
    "    # Definimos el método agregar_producto                                  \n",
    "    def agregar_producto (self, nombre, precio, cantidad):                         # Añadimos como parámetros nombre, precio, cantidad\n",
    "\n",
    "                                                                                   # Las claves de los dict son los str \"nombre\",\"precio\" y \"cantidad\". Quedaria {nombre:producto} como par clave-valor del diccionario\n",
    "            for producto in self.inventario:\n",
    "                if producto[\"nombre\"] == nombre:                                        # Indexamos para acceder al \"nombre\" de nuestro producto(key del dict) con producto [\"nombre\"] y ver si existe\n",
    "                    producto[\"cantidad\"] += cantidad                                    # Aquí sumamos la cantidad nueva al producto existente (es decir, actualizamos la cantidad)\n",
    "                    return(\"El producto ya existe. Cantidad total actual:\", {cantidad})  # Accedemos directamente al diccionario que contiene el producto y actualizamos el valor de la clave 'cantidad'.                                                                              \n",
    "\n",
    "             # Si no existe, indicamos que añada un nuevo producto (si el valor asociado a la key \"nombre\" del producto no es igual al nombre que ingresemos):\n",
    "                                                                                                                                                                                                          \n",
    "            else: \n",
    "                    self.inventario.append({'nombre': nombre, 'precio': precio, 'cantidad': cantidad})  # Para añadir al diccionario los nuevo valores utilizamos .append(). \n",
    "                    print(\"Se ha añadido un nuevo producto:\", {nombre})            "
   ]
  },
  {
   "cell_type": "code",
   "execution_count": null,
   "metadata": {},
   "outputs": [],
   "source": []
  },
  {
   "cell_type": "code",
   "execution_count": null,
   "metadata": {},
   "outputs": [],
   "source": [
    "#TERCERA PRUEBA: PROBAMOS DESGLOSANDO EN UNA FUNCION Y CREANDO VARIABLES\n",
    "#PROBAMOS CON IF != EN LUGAR D ELSE\n",
    "\n",
    "#NO LO AGREGA"
   ]
  },
  {
   "cell_type": "code",
   "execution_count": 28,
   "metadata": {},
   "outputs": [],
   "source": [
    "nombre = \"manzana\"\n",
    "cantidad = 2\n",
    "inventario =[{\"manzana\": 2},{\"pera\": 3}]"
   ]
  },
  {
   "cell_type": "code",
   "execution_count": 29,
   "metadata": {},
   "outputs": [
    {
     "data": {
      "text/plain": [
       "[{'manzana': 2}, {'pera': 3}]"
      ]
     },
     "execution_count": 29,
     "metadata": {},
     "output_type": "execute_result"
    }
   ],
   "source": [
    "inventario"
   ]
  },
  {
   "cell_type": "code",
   "execution_count": 45,
   "metadata": {},
   "outputs": [],
   "source": [
    "def agregar_producto (inventario, nombre, cantidad):                        \n",
    "\n",
    "                                                                                   \n",
    "       for producto in inventario:\n",
    "         if producto[\"nombre\"] == nombre:                                       \n",
    "                producto[\"cantidad\"] += cantidad                                    # Aquí sumamos la cantidad nueva al producto existente (es decir, actualizamos la cantidad)\n",
    "                return(\"El producto ya existe. Cantidad total actual:\", {cantidad})\n",
    "                                                                                                \n",
    "\n",
    "       # Si no existe, indicamos que añada un nuevo producto (si el valor asociado a la key \"nombre\" del producto no es igual al nombre que ingresemos):\n",
    "                                                                                                                                                                                                          \n",
    "       if producto[\"nombre\"] != nombre: \n",
    "              inventario.append({'nombre': nombre, 'precio': precio, 'cantidad': cantidad})  # Para añadir al diccionario los nuevo valores utilizamos .append(). \n",
    "              print(\"Se ha añadido un nuevo producto:\", {nombre})         "
   ]
  },
  {
   "cell_type": "code",
   "execution_count": 46,
   "metadata": {},
   "outputs": [
    {
     "data": {
      "text/plain": [
       "[{'manzana': 2}, {'pera': 3}]"
      ]
     },
     "execution_count": 46,
     "metadata": {},
     "output_type": "execute_result"
    }
   ],
   "source": [
    "inventario"
   ]
  },
  {
   "cell_type": "code",
   "execution_count": null,
   "metadata": {},
   "outputs": [],
   "source": []
  },
  {
   "cell_type": "code",
   "execution_count": null,
   "metadata": {},
   "outputs": [],
   "source": [
    "#TERCERA PRUEBA APPEND (sobre la clase, añadiendo un producto_nuevo asignado como variable)\n",
    "# Arreglar indentación\n",
    "\n",
    "#FUNCIONA. falta arreglar return "
   ]
  },
  {
   "cell_type": "code",
   "execution_count": null,
   "metadata": {},
   "outputs": [],
   "source": [
    "class TiendaOnline:\n",
    "    def __init__(self):  \n",
    "\n",
    " \n",
    "        self.inventario =  []                        \n",
    "        self.ventas_totales = float() \n",
    "        \n",
    "    def agregar_producto (self, nombre, precio, cantidad):\n",
    "       for producto in self.inventario: \n",
    "           if producto [\"nombre\"] == nombre:  \n",
    "                producto [\"cantidad\"] += cantidad \n",
    "                return                            #FALTA ESTO\n",
    "           \n",
    "       producto_nuevo = {'nombre': nombre, 'precio': precio, 'cantidad': cantidad}\n",
    "       self.inventario.append(producto_nuevo) "
   ]
  },
  {
   "cell_type": "code",
   "execution_count": 60,
   "metadata": {},
   "outputs": [
    {
     "data": {
      "text/plain": [
       "{'inventario': [], 'ventas_totales': 0.0}"
      ]
     },
     "execution_count": 60,
     "metadata": {},
     "output_type": "execute_result"
    }
   ],
   "source": [
    "mi_tienda = TiendaOnline()\n",
    "mi_tienda.__dict__"
   ]
  },
  {
   "cell_type": "code",
   "execution_count": 61,
   "metadata": {},
   "outputs": [],
   "source": [
    "mi_tienda.agregar_producto (\"manzana\", 2, 3)"
   ]
  },
  {
   "cell_type": "code",
   "execution_count": 63,
   "metadata": {},
   "outputs": [
    {
     "data": {
      "text/plain": [
       "[{'nombre': 'manzana', 'precio': 2, 'cantidad': 3}]"
      ]
     },
     "execution_count": 63,
     "metadata": {},
     "output_type": "execute_result"
    }
   ],
   "source": [
    "mi_tienda.inventario"
   ]
  },
  {
   "cell_type": "code",
   "execution_count": null,
   "metadata": {},
   "outputs": [],
   "source": []
  },
  {
   "cell_type": "code",
   "execution_count": null,
   "metadata": {},
   "outputs": [],
   "source": [
    "# MÉTODO AGREGAR_PRODUCTO FUNCIONA. AGREGAR ESTE\n",
    "\n",
    "class TiendaOnline:\n",
    "    def __init__(self):  \n",
    "\n",
    " \n",
    "        self.inventario =  []                        \n",
    "        self.ventas_totales = float() \n",
    "        \n",
    "    def agregar_producto (self, nombre, precio, cantidad):\n",
    "       for producto in self.inventario: \n",
    "           if producto [\"nombre\"] == nombre:  \n",
    "                producto [\"cantidad\"] += cantidad \n",
    "                return (f\"El producto ya existe. Cantidad total actual:, {cantidad}\")    #ESTAMOS PROBANDO ESTA PARTE\n",
    "           \n",
    "       producto_nuevo = {'nombre': nombre, 'precio': precio, 'cantidad': cantidad}\n",
    "       self.inventario.append(producto_nuevo) "
   ]
  },
  {
   "cell_type": "code",
   "execution_count": null,
   "metadata": {},
   "outputs": [
    {
     "data": {
      "text/plain": [
       "{'inventario': [], 'ventas_totales': 0.0}"
      ]
     },
     "execution_count": 72,
     "metadata": {},
     "output_type": "execute_result"
    }
   ],
   "source": [
    "tienda = TiendaOnline()\n",
    "tienda.__dict__"
   ]
  },
  {
   "cell_type": "code",
   "execution_count": null,
   "metadata": {},
   "outputs": [],
   "source": [
    "tienda.agregar_producto (\"manzana\", 2, 3)"
   ]
  },
  {
   "cell_type": "code",
   "execution_count": null,
   "metadata": {},
   "outputs": [
    {
     "data": {
      "text/plain": [
       "[{'nombre': 'manzana', 'precio': 2, 'cantidad': 3}]"
      ]
     },
     "execution_count": 74,
     "metadata": {},
     "output_type": "execute_result"
    }
   ],
   "source": [
    "tienda.inventario"
   ]
  },
  {
   "cell_type": "code",
   "execution_count": null,
   "metadata": {},
   "outputs": [
    {
     "data": {
      "text/plain": [
       "'El producto ya existe. Cantidad total actual:, 3'"
      ]
     },
     "execution_count": 75,
     "metadata": {},
     "output_type": "execute_result"
    }
   ],
   "source": [
    "tienda.agregar_producto (\"manzana\", 2, 3)"
   ]
  },
  {
   "cell_type": "code",
   "execution_count": null,
   "metadata": {},
   "outputs": [],
   "source": []
  },
  {
   "cell_type": "code",
   "execution_count": null,
   "metadata": {},
   "outputs": [],
   "source": []
  },
  {
   "cell_type": "code",
   "execution_count": null,
   "metadata": {},
   "outputs": [],
   "source": [
    "# PRUEBA MÉTODO ver_inventario\n",
    "# FUNCIONA"
   ]
  },
  {
   "cell_type": "code",
   "execution_count": 83,
   "metadata": {},
   "outputs": [],
   "source": [
    "class TiendaOnline:                                                                # Creamos la clase TiendaOnline            \n",
    "    def __init__(self):                                                            # Método constructor. En este caso no añadimos parámetros \n",
    "\n",
    " \n",
    "        self.inventario =  []                                                      # El atributo inventario tiene que ser una LISTA en la que habrá diccionarios.              \n",
    "        self.ventas_totales = float()                                              # El atributo ventas_totales debe de ser un decimal, así que cambiamos el dato a tipo float.    \n",
    "\n",
    "    # Definimos el método agregar_producto                                  \n",
    "    def agregar_producto (self, nombre, precio, cantidad):                         # Añadimos como parámetros nombre, precio, cantidad\n",
    "\n",
    "                                                                                  \n",
    "            for producto in self.inventario:\n",
    "                if producto[\"nombre\"] == nombre:                                        # Indexamos para acceder al \"nombre\" de nuestro producto(key del dict) con producto [\"nombre\"] y ver si existe\n",
    "                    producto[\"cantidad\"] += cantidad                                    # Aquí sumamos la cantidad nueva al producto existente \n",
    "                    return (f\"El producto ya existe. Cantidad total actual:, {cantidad}\")  # Accedemos directamente al diccionario que contiene el producto y actualizamos el valor de la clave 'cantidad'.                                                                              \n",
    "\n",
    "        # Si no existe, indicamos que añada un nuevo producto. Creamos la variable producto_nuevo para almacenarlo (si el valor asociado a la key \"nombre\" del producto no es igual al nombre que ingresemos):\n",
    "                                                                                                                                                                                                          \n",
    "            producto_nuevo = {'nombre': nombre, 'precio': precio, 'cantidad': cantidad}\n",
    "            self.inventario.append(producto_nuevo)                                         \n",
    "\n",
    "    \n",
    "    # Definimos el método ver_inventario\n",
    "    def ver_inventario(self):\n",
    "            \n",
    "            for producto in self.inventario:  \n",
    "                print(producto)                # En cada iteración se imprimirá cada producto de la lista self.inventario\n",
    "           "
   ]
  },
  {
   "cell_type": "code",
   "execution_count": 84,
   "metadata": {},
   "outputs": [
    {
     "data": {
      "text/plain": [
       "{'inventario': [], 'ventas_totales': 0.0}"
      ]
     },
     "execution_count": 84,
     "metadata": {},
     "output_type": "execute_result"
    }
   ],
   "source": [
    "tienda = TiendaOnline()\n",
    "tienda.__dict__"
   ]
  },
  {
   "cell_type": "code",
   "execution_count": 85,
   "metadata": {},
   "outputs": [
    {
     "data": {
      "text/plain": [
       "[{'nombre': 'manzana', 'precio': 2, 'cantidad': 3}]"
      ]
     },
     "execution_count": 85,
     "metadata": {},
     "output_type": "execute_result"
    }
   ],
   "source": [
    "tienda.agregar_producto (\"manzana\", 2, 3)\n",
    "tienda.inventario"
   ]
  },
  {
   "cell_type": "code",
   "execution_count": 87,
   "metadata": {},
   "outputs": [
    {
     "name": "stdout",
     "output_type": "stream",
     "text": [
      "{'nombre': 'manzana', 'precio': 2, 'cantidad': 3}\n"
     ]
    }
   ],
   "source": [
    "tienda.ver_inventario()"
   ]
  },
  {
   "cell_type": "code",
   "execution_count": null,
   "metadata": {},
   "outputs": [],
   "source": []
  },
  {
   "cell_type": "code",
   "execution_count": null,
   "metadata": {},
   "outputs": [],
   "source": []
  },
  {
   "cell_type": "code",
   "execution_count": null,
   "metadata": {},
   "outputs": [],
   "source": [
    "# PRUEBA MÉTODO buscar_producto\n",
    "# FUNCIONA"
   ]
  },
  {
   "cell_type": "code",
   "execution_count": 115,
   "metadata": {},
   "outputs": [],
   "source": [
    "class TiendaOnline:                                                                            \n",
    "    def __init__(self):                                                            \n",
    "\n",
    " \n",
    "        self.inventario =  []                                                                  \n",
    "        self.ventas_totales = float()                                                 \n",
    "\n",
    "    # Definimos el método agregar_producto                                  \n",
    "    def agregar_producto (self, nombre, precio, cantidad):                        \n",
    "\n",
    "                                                                                  \n",
    "            for producto in self.inventario:\n",
    "                if producto[\"nombre\"] == nombre:                                        \n",
    "                    producto[\"cantidad\"] += cantidad                                    \n",
    "                    return (f\"El producto ya existe. Cantidad total actual: {cantidad}\")                                                                               \n",
    "\n",
    "        \n",
    "                                                                                                                                                                                                          \n",
    "            producto_nuevo = {'nombre': nombre, 'precio': precio, 'cantidad': cantidad}\n",
    "            self.inventario.append(producto_nuevo)                                         \n",
    "\n",
    "    \n",
    "    # Definimos el método ver_inventario\n",
    "    def ver_inventario(self):\n",
    "            \n",
    "            for producto in self.inventario:  \n",
    "                print(producto)                \n",
    "\n",
    "                \n",
    "                                              \n",
    "\n",
    "    # Definimos el método buscar_producto:\n",
    "    def buscar_producto(self, nombre):\n",
    "\n",
    "\n",
    "        for producto in self.inventario:\n",
    "            if producto[\"nombre\"] == nombre:  \n",
    "                return(producto)     #AQUÍ CAMBIAMOS PRINT POR RETURN              \n",
    "\n",
    "        return (f\"Producto no encontrado\")       #AL ESTAR ANTES EN EL BUCLE DE FOR NO DEVOLVÍA PRODUCTO NO ENCONTRADO  "
   ]
  },
  {
   "cell_type": "code",
   "execution_count": 116,
   "metadata": {},
   "outputs": [
    {
     "data": {
      "text/plain": [
       "{'inventario': [], 'ventas_totales': 0.0}"
      ]
     },
     "execution_count": 116,
     "metadata": {},
     "output_type": "execute_result"
    }
   ],
   "source": [
    "materiales = TiendaOnline()\n",
    "materiales.__dict__"
   ]
  },
  {
   "cell_type": "code",
   "execution_count": 117,
   "metadata": {},
   "outputs": [],
   "source": [
    "materiales.agregar_producto(\"tornillos\", 0.99, 25)\n",
    "materiales.agregar_producto(\"mazos\", 5, 5)\n",
    "materiales.agregar_producto(\"llaves\", 2.12, 40)\n",
    "materiales.agregar_producto(\"destornilladores\", 2.98, 20)"
   ]
  },
  {
   "cell_type": "code",
   "execution_count": 120,
   "metadata": {},
   "outputs": [
    {
     "data": {
      "text/plain": [
       "{'inventario': [{'nombre': 'tornillos', 'precio': 0.99, 'cantidad': 25},\n",
       "  {'nombre': 'mazos', 'precio': 5, 'cantidad': 5},\n",
       "  {'nombre': 'llaves', 'precio': 2.12, 'cantidad': 40},\n",
       "  {'nombre': 'destornilladores', 'precio': 2.98, 'cantidad': 20}],\n",
       " 'ventas_totales': 0.0}"
      ]
     },
     "execution_count": 120,
     "metadata": {},
     "output_type": "execute_result"
    }
   ],
   "source": [
    "materiales.__dict__"
   ]
  },
  {
   "cell_type": "code",
   "execution_count": 121,
   "metadata": {},
   "outputs": [
    {
     "data": {
      "text/plain": [
       "{'nombre': 'llaves', 'precio': 2.12, 'cantidad': 40}"
      ]
     },
     "execution_count": 121,
     "metadata": {},
     "output_type": "execute_result"
    }
   ],
   "source": [
    "materiales.buscar_producto(\"llaves\")"
   ]
  },
  {
   "cell_type": "code",
   "execution_count": null,
   "metadata": {},
   "outputs": [],
   "source": []
  },
  {
   "cell_type": "code",
   "execution_count": null,
   "metadata": {},
   "outputs": [],
   "source": [
    "# PRUEBA MÉTODO actualizar_stock\n",
    "# FUNCIONA"
   ]
  },
  {
   "cell_type": "code",
   "execution_count": null,
   "metadata": {},
   "outputs": [],
   "source": [
    "\n",
    "\n",
    "class TiendaOnline:                                                                          \n",
    "    def __init__(self):                                                            \n",
    "\n",
    " \n",
    "        self.inventario =  []                                                                 \n",
    "        self.ventas_totales = float()                                                \n",
    "\n",
    "    # Definimos el método agregar_producto                                  \n",
    "    def agregar_producto (self, nombre, precio, cantidad):                         \n",
    "\n",
    "                                                                                  \n",
    "            for producto in self.inventario:\n",
    "                if producto[\"nombre\"] == nombre:                                       \n",
    "                    producto[\"cantidad\"] += cantidad                                    \n",
    "                    return (f\"El producto ya existe. Cantidad total actual: {cantidad}\")                                                                               \n",
    "\n",
    "        # Si no existe, indicamos que añada un nuevo producto. Creamos la variable producto_nuevo para almacenarlo (si el valor asociado a la key \"nombre\" del producto no es igual al nombre que ingresemos):\n",
    "                                                                                                                                                                                                          \n",
    "            producto_nuevo = {'nombre': nombre, 'precio': precio, 'cantidad': cantidad}\n",
    "            self.inventario.append(producto_nuevo)                                         \n",
    "\n",
    "    \n",
    "    # Definimos el método ver_inventario\n",
    "    def ver_inventario(self):\n",
    "            \n",
    "            for producto in self.inventario:  \n",
    "                print(producto)                \n",
    "\n",
    "                \n",
    "                                              \n",
    "\n",
    "    # Definimos el método buscar_producto:\n",
    "    def buscar_producto(self, nombre):\n",
    "\n",
    "        for producto in self.inventario:\n",
    "            if producto[\"nombre\"] == nombre:   \n",
    "                return(producto)              \n",
    "\n",
    "            return (f\"Producto no encontrado\")            \n",
    "\n",
    "\n",
    "  \n",
    "    # Definimos el método actualizar_stock:\n",
    "    def actualizar_stock(self, nombre, cantidad):\n",
    "    \n",
    "        for producto in self.inventario:\n",
    "            if producto[\"nombre\"] == nombre:                                           \n",
    "                producto['cantidad'] += cantidad                                       \n",
    "                print(f\"El stock actualizado de {nombre} es {producto[\"cantidad\"]}\")   \n",
    "                return    #añadimos return para salir del método una vez se ha actualizado el stock\n",
    "            \n",
    "        print(f\"El producto no está en el inventario\")  #SIEMPRE FUERA DEL BUCLE. si el producto no es el primero en la lista, se imprimirá más veces\n"
   ]
  },
  {
   "cell_type": "code",
   "execution_count": 123,
   "metadata": {},
   "outputs": [
    {
     "data": {
      "text/plain": [
       "{'inventario': [], 'ventas_totales': 0.0}"
      ]
     },
     "execution_count": 123,
     "metadata": {},
     "output_type": "execute_result"
    }
   ],
   "source": [
    "equipamiento = TiendaOnline()\n",
    "equipamiento.__dict__"
   ]
  },
  {
   "cell_type": "code",
   "execution_count": 124,
   "metadata": {},
   "outputs": [],
   "source": [
    "equipamiento.agregar_producto(\"mancuernas\", 32.20, 45)\n",
    "equipamiento.agregar_producto(\"discos\", 5, 35)\n",
    "equipamiento.agregar_producto(\"elípticas\", 550, 40)\n",
    "equipamiento.agregar_producto(\"barras\", 75, 20)"
   ]
  },
  {
   "cell_type": "code",
   "execution_count": 125,
   "metadata": {},
   "outputs": [
    {
     "data": {
      "text/plain": [
       "{'inventario': [{'nombre': 'mancuernas', 'precio': 32.2, 'cantidad': 45},\n",
       "  {'nombre': 'discos', 'precio': 5, 'cantidad': 35},\n",
       "  {'nombre': 'elípticas', 'precio': 550, 'cantidad': 40},\n",
       "  {'nombre': 'barras', 'precio': 75, 'cantidad': 20}],\n",
       " 'ventas_totales': 0.0}"
      ]
     },
     "execution_count": 125,
     "metadata": {},
     "output_type": "execute_result"
    }
   ],
   "source": [
    "equipamiento.__dict__"
   ]
  },
  {
   "cell_type": "code",
   "execution_count": 126,
   "metadata": {},
   "outputs": [
    {
     "data": {
      "text/plain": [
       "{'nombre': 'barras', 'precio': 75, 'cantidad': 20}"
      ]
     },
     "execution_count": 126,
     "metadata": {},
     "output_type": "execute_result"
    }
   ],
   "source": [
    "equipamiento.buscar_producto(\"barras\")"
   ]
  },
  {
   "cell_type": "code",
   "execution_count": null,
   "metadata": {},
   "outputs": [],
   "source": []
  },
  {
   "cell_type": "code",
   "execution_count": null,
   "metadata": {},
   "outputs": [],
   "source": []
  },
  {
   "cell_type": "code",
   "execution_count": null,
   "metadata": {},
   "outputs": [],
   "source": []
  },
  {
   "cell_type": "code",
   "execution_count": null,
   "metadata": {},
   "outputs": [],
   "source": []
  },
  {
   "cell_type": "code",
   "execution_count": null,
   "metadata": {},
   "outputs": [],
   "source": []
  },
  {
   "cell_type": "code",
   "execution_count": null,
   "metadata": {},
   "outputs": [],
   "source": []
  },
  {
   "cell_type": "code",
   "execution_count": 20,
   "metadata": {},
   "outputs": [
    {
     "ename": "SyntaxError",
     "evalue": "incomplete input (4244872772.py, line 7)",
     "output_type": "error",
     "traceback": [
      "\u001b[1;36m  Cell \u001b[1;32mIn[20], line 7\u001b[1;36m\u001b[0m\n\u001b[1;33m    else:\u001b[0m\n\u001b[1;37m         ^\u001b[0m\n\u001b[1;31mSyntaxError\u001b[0m\u001b[1;31m:\u001b[0m incomplete input\n"
     ]
    }
   ],
   "source": [
    "# Borrador prueba de uso update\n",
    "for producto in self.inventario:\n",
    "        if producto in self.inventario:\n",
    "                    producto.update()    # Aquí probamos update para que actualice el diccionario y sobreescriba # NO utilizar update se utiliza para actualizar un diccionario con otros diccionarios \n",
    "                    print(\"El producto ya existe. Cantidad total actual: \",)            \n",
    "                    \n",
    "        else:"
   ]
  },
  {
   "cell_type": "markdown",
   "metadata": {},
   "source": [
    "PLANTEAMIENTO DE RESTO DE EJERCICIOS: PRUEBAS"
   ]
  },
  {
   "cell_type": "code",
   "execution_count": null,
   "metadata": {},
   "outputs": [],
   "source": [
    "\n",
    "# método ver_inventario: Queremos que muestre los detalles de los productos (nombre, precio, cantidad) \n",
    "# NO usaremos .items() porque saca clave-valor de un diccionario y tenemos una LISTA de diccionarios\n",
    "\n",
    "def ver_inventario(self):\n",
    "    for producto in self.inventario:\n",
    "     \n",
    "        print()"
   ]
  },
  {
   "cell_type": "code",
   "execution_count": null,
   "metadata": {},
   "outputs": [],
   "source": [
    "# método actualizar_stock : Queremos que nos actualice la cantidad de producto en inventario. Usaremos .update()\n",
    "# Hay que modificar la iteracion. nos pide buscarlo por el NOMBRE. REVISAR\n",
    "# HE MODIFICADO EN ENTREGA LA BUSQUEDA POR NOMBRE Y AÑADIDO MODIFICACIONES A CANTIDAD\n",
    "# FALTA AÑADIR QUÉ OCURRE SI NO ESTÁ\n",
    "\n",
    "def actualizar_stock(self, nombre, cantidad):\n",
    "    for producto in self.inventario:\n",
    "        if producto['cantidad'] += cantidad:\n",
    "            print(\"el stock actualizado de {nombre} es {producto[\"cantidad\"]}\")"
   ]
  },
  {
   "cell_type": "code",
   "execution_count": null,
   "metadata": {},
   "outputs": [],
   "source": [
    "# método eliminar_producto: busca un producto por nombre y si lo encuentra, lo elimina. Usaremos .pop()\n",
    "\n",
    "def eliminar_producto(self, nombre):\n",
    "    for producto in self.inventario:\n",
    "        if producto[nombre] == nombre:\n",
    "            producto.pop()\n",
    "        else:\n",
    "            print(\"el producto no puede eliminarse ya que no se encuentra en el inventario \")"
   ]
  },
  {
   "cell_type": "code",
   "execution_count": null,
   "metadata": {},
   "outputs": [],
   "source": [
    "# método calcular_valor_inventario: suma el valor de cada producto al total (precio x cantidad)\n",
    "# ERROR: NO HEMOS DEFINIDO LA VARIABLE VALOR_TOTAL. Modificar\n",
    "# la añadimos fuera porque si lo hacemos dentro se reiniciará el valor_total cada vez que pasemos por un producto \n",
    "\n",
    "def calcular_valor_inventario(self):\n",
    "    for producto in self.inventario:\n",
    "    valor_producto = producto[\"precio\"] * producto[\"cantidad\"])\n",
    "     valor_total += valor_producto        "
   ]
  }
 ],
 "metadata": {
  "kernelspec": {
   "display_name": "base",
   "language": "python",
   "name": "python3"
  },
  "language_info": {
   "codemirror_mode": {
    "name": "ipython",
    "version": 3
   },
   "file_extension": ".py",
   "mimetype": "text/x-python",
   "name": "python",
   "nbconvert_exporter": "python",
   "pygments_lexer": "ipython3",
   "version": "3.12.7"
  }
 },
 "nbformat": 4,
 "nbformat_minor": 2
}
