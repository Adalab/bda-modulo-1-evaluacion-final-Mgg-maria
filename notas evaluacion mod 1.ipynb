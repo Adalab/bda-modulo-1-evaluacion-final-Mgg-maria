{
 "cells": [
  {
   "cell_type": "code",
   "execution_count": null,
   "metadata": {},
   "outputs": [],
   "source": [
    "inventario =  [{}]"
   ]
  },
  {
   "cell_type": "code",
   "execution_count": null,
   "metadata": {},
   "outputs": [
    {
     "name": "stdout",
     "output_type": "stream",
     "text": [
      "El producto ya existe. Cantidad total actual: \n",
      "El producto ya existe. Cantidad total actual: \n"
     ]
    }
   ],
   "source": [
    "for producto in inventario:\n",
    "                if producto in inventario:\n",
    "                    producto.update()    # Aquí probamos update para que actualice el diccionario y sobreescriba # NO utilizar update se utiliza para actualizar un diccionario con otros diccionarios \n",
    "                    print(\"El producto ya existe. Cantidad total actual: \",)            \n",
    "                    \n",
    "                else:\n",
    "            "
   ]
  },
  {
   "cell_type": "code",
   "execution_count": null,
   "metadata": {},
   "outputs": [],
   "source": [
    "# aquí estamos creando dos diccionarios para hacer pruebas.\n",
    "\n",
    "dicionario = {'nombre': 'Camisa', 'precio': 20, 'cantidad': 40}\n",
    "dicionario2 = {'nombre': 'Pantalón', 'precio': 30, 'cantidad': 30}\n",
    "dic_total = []"
   ]
  },
  {
   "cell_type": "code",
   "execution_count": 24,
   "metadata": {},
   "outputs": [],
   "source": [
    "dic_total.append(dicionario)"
   ]
  },
  {
   "cell_type": "code",
   "execution_count": 25,
   "metadata": {},
   "outputs": [
    {
     "data": {
      "text/plain": [
       "[{'nombre': 'Camisa', 'precio': 20, 'cantidad': 40}]"
      ]
     },
     "execution_count": 25,
     "metadata": {},
     "output_type": "execute_result"
    }
   ],
   "source": [
    "dic_total"
   ]
  },
  {
   "cell_type": "code",
   "execution_count": 26,
   "metadata": {},
   "outputs": [],
   "source": [
    "dic_total.append(dicionario2)"
   ]
  },
  {
   "cell_type": "code",
   "execution_count": null,
   "metadata": {},
   "outputs": [
    {
     "data": {
      "text/plain": [
       "[{'nombre': 'Camisa', 'precio': 20, 'cantidad': 40},\n",
       " {'nombre': 'Pantalón', 'precio': 30, 'cantidad': 30}]"
      ]
     },
     "execution_count": 27,
     "metadata": {},
     "output_type": "execute_result"
    }
   ],
   "source": [
    "# Se añaden correctamente con el append()\n",
    "\n",
    "\n",
    "dic_total"
   ]
  },
  {
   "cell_type": "code",
   "execution_count": null,
   "metadata": {},
   "outputs": [],
   "source": [
    "# ESTRUCTURA DE UNA LISTA CON DICCIONARIOS DENTRO\n",
    "\n",
    "   #key      #valor   #key    #valor   #key     #valor\n",
    "[{'nombre': 'Camisa', 'precio': 20, 'cantidad': 40},\n",
    " {'nombre': 'Pantalón', 'precio': 30, 'cantidad': 30}]\n"
   ]
  },
  {
   "cell_type": "code",
   "execution_count": null,
   "metadata": {},
   "outputs": [],
   "source": []
  },
  {
   "cell_type": "code",
   "execution_count": 1,
   "metadata": {},
   "outputs": [],
   "source": [
    "class TiendaOnline:\n",
    "    def __init__(self):  #Método constructor. En este caso no añadimos parámetros \n",
    "\n",
    "# \n",
    "        self.inventario =  []             # El atributo inventario tiene que ser una LISTA en la que habrá diccionarios.              \n",
    "        self.ventas_totales = float()     # El atributo ventas_totales debe de ser un decimal, así que cambiamos el dato a tipo float.    \n",
    "\n",
    "    # Definimos el método agregar_producto                                  \n",
    "    def agregar_producto (self, nombre, precio, cantidad):                         # Añadimos como parámetros nombre, precio, cantidad\n",
    "\n",
    "                                                                                   # Las claves de los dict son los str \"nombre\",\"precio\" y \"cantidad\". Quedaria {nombre:producto} como par clave-valor del diccionario\n",
    "            for producto in self.inventario:\n",
    "                if producto[\"nombre\"] == nombre:                                        # Indexamos para acceder al \"nombre\" de nuestro producto(key del dict) con producto [\"nombre\"] y ver si existe\n",
    "                    producto[\"cantidad\"] += cantidad                                    # Aquí sumamos la cantidad nueva al producto existente \n",
    "                    print(\"El producto ya existe. Cantidad total actual:\", {cantidad})  # Accedemos directamente al diccionario que contiene el producto y actualizamos el valor de la clave 'cantidad'.                                                                              \n",
    "\n",
    "             # Si no existe, indicamos que añada un nuevo producto (si el valor asociado a la key \"nombre\" del producto no es igual al nombre que ingresemos):\n",
    "                                                                                                                                                                                                          \n",
    "                else: \n",
    "                    self.inventario.append({'nombre': nombre, 'precio': precio, 'cantidad': cantidad})  # Para añadir al diccionario los nuevo valores utilizamos .append(). \n",
    "                    print(\"Se ha añadido un nuevo producto:\", {nombre})            "
   ]
  },
  {
   "cell_type": "code",
   "execution_count": null,
   "metadata": {},
   "outputs": [],
   "source": [
    "# COMPROBACION DE METODO AGREGAR PRODUCTO\n",
    "# (revisar append, no agrega producto)"
   ]
  },
  {
   "cell_type": "code",
   "execution_count": 2,
   "metadata": {},
   "outputs": [],
   "source": [
    "mi_tienda = TiendaOnline()"
   ]
  },
  {
   "cell_type": "code",
   "execution_count": 7,
   "metadata": {},
   "outputs": [
    {
     "data": {
      "text/plain": [
       "{'inventario': [], 'ventas_totales': 0.0}"
      ]
     },
     "execution_count": 7,
     "metadata": {},
     "output_type": "execute_result"
    }
   ],
   "source": [
    "mi_tienda.__dict__\n"
   ]
  },
  {
   "cell_type": "code",
   "execution_count": 8,
   "metadata": {},
   "outputs": [],
   "source": [
    "mi_tienda.agregar_producto (\"manzana\", 2, 3)"
   ]
  },
  {
   "cell_type": "code",
   "execution_count": 9,
   "metadata": {},
   "outputs": [
    {
     "data": {
      "text/plain": [
       "[]"
      ]
     },
     "execution_count": 9,
     "metadata": {},
     "output_type": "execute_result"
    }
   ],
   "source": [
    "mi_tienda.inventario"
   ]
  },
  {
   "cell_type": "code",
   "execution_count": null,
   "metadata": {},
   "outputs": [],
   "source": []
  },
  {
   "cell_type": "code",
   "execution_count": null,
   "metadata": {},
   "outputs": [],
   "source": []
  }
 ],
 "metadata": {
  "kernelspec": {
   "display_name": "base",
   "language": "python",
   "name": "python3"
  },
  "language_info": {
   "codemirror_mode": {
    "name": "ipython",
    "version": 3
   },
   "file_extension": ".py",
   "mimetype": "text/x-python",
   "name": "python",
   "nbconvert_exporter": "python",
   "pygments_lexer": "ipython3",
   "version": "3.12.7"
  }
 },
 "nbformat": 4,
 "nbformat_minor": 2
}
