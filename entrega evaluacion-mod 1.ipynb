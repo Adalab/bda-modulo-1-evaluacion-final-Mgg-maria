{
 "cells": [
  {
   "cell_type": "code",
   "execution_count": null,
   "metadata": {},
   "outputs": [],
   "source": [
    "class TiendaOnline:\n",
    "    def __init__(self):  #Método constructor. En este caso no añadimos parámetros \n",
    "\n",
    "# \n",
    "        self.inventario =  []             # El atributo inventario tiene que ser una LISTA en la que habrá diccionarios.              \n",
    "        self.ventas_totales = float()     # El atributo ventas_totales debe de ser un decimal, así que cambiamos el dato a tipo float.    \n",
    "\n",
    "    # Definimos el método agregar_producto                                  \n",
    "    def agregar_producto (self, nombre, precio, cantidad):                         # Añadimos como parámetros nombre, precio, cantidad\n",
    "\n",
    "                                                                                   # Las claves de los dict son los str \"nombre\",\"precio\" y \"cantidad\". Quedaria {nombre:producto} como par clave-valor del diccionario\n",
    "            for producto in self.inventario:\n",
    "                if producto[\"nombre\"] == nombre:                                        # Indexamos para acceder al \"nombre\" de nuestro producto(key del dict) con producto [\"nombre\"] y ver si existe\n",
    "                    producto[\"cantidad\"] += cantidad                                    # Aquí sumamos la cantidad nueva al producto existente \n",
    "                    print(\"El producto ya existe. Cantidad total actual:\", {cantidad})  # Accedemos directamente al diccionario que contiene el producto y actualizamos el valor de la clave 'cantidad'.                                                                              \n",
    "\n",
    "             # Si no existe, indicamos que añada un nuevo producto (si el valor asociado a la key \"nombre\" del producto no es igual al nombre que ingresemos):\n",
    "                                                                                                                                                                                                          \n",
    "                else: \n",
    "                    self.inventario.append({'nombre': nombre, 'precio': precio, 'cantidad': cantidad})  # Para añadir al diccionario los nuevo valores utilizamos .append(). \n",
    "                    print(\"Se ha añadido un nuevo producto:\", {nombre})                                          \n",
    "\n",
    "\n",
    "                \n",
    "                                              \n",
    "\n",
    "\n",
    "\n",
    "  \n",
    "    \n",
    "\n",
    "\n"
   ]
  },
  {
   "cell_type": "code",
   "execution_count": null,
   "metadata": {},
   "outputs": [],
   "source": []
  },
  {
   "cell_type": "markdown",
   "metadata": {},
   "source": [
    "planteamiento del resto del ejercicio:\n"
   ]
  },
  {
   "cell_type": "code",
   "execution_count": null,
   "metadata": {},
   "outputs": [],
   "source": [
    "# método ver_inventario: Queremos que muestre los detalles de los productos (nombre, precio, cantidad) usaremos .items() porque saca clave-valor\n",
    "\n",
    "def ver_inventario(self):\n",
    "    for producto in self.inventario:\n",
    "        #aqui irá .items\n",
    "        print()\n",
    "\n",
    "    \n"
   ]
  },
  {
   "cell_type": "code",
   "execution_count": null,
   "metadata": {},
   "outputs": [],
   "source": [
    "# método buscar_producto: \n",
    "\n",
    "def buscar_producto(self, nombre):\n",
    "    for producto in self.inventario:\n",
    "        if producto[nombre] == nombre\n",
    "            print(\"este es el precio\" {precio} ,\"y esta la cantidad\", {cantidad})\n"
   ]
  },
  {
   "cell_type": "code",
   "execution_count": null,
   "metadata": {},
   "outputs": [],
   "source": [
    "# método actualizar_stock : Queremos que nos actualice la cantidad de producto en inventario. Usaremos .update()\n",
    "\n",
    "def actualizar_stock(self, nombre, cantidad):\n",
    "    for producto in self.inventario:\n",
    "        if producto['cantidad'] += cantidad:\n",
    "            print(\"el stock actualizado de {nombre} es {producto[\"cantidad\"]}\")\n",
    "\n"
   ]
  },
  {
   "cell_type": "code",
   "execution_count": null,
   "metadata": {},
   "outputs": [],
   "source": [
    "# método eliminar_producto: busca un producto por nombre y si lo encuentra, lo elimina. Usaremos .pop()\n",
    "\n",
    "def eliminar_producto(self, nombre):\n",
    "    for producto in self.inventario:\n",
    "        if producto[nombre] == nombre:\n",
    "            producto.pop()\n",
    "        else:\n",
    "            print(\"el producto no puede eliminarse ya que no se encuentra en el inventario \")\n"
   ]
  },
  {
   "cell_type": "code",
   "execution_count": null,
   "metadata": {},
   "outputs": [],
   "source": [
    "# Método calcular_valor_inventario: \n",
    "\n",
    "def calcular_valor_inventario(self):\n",
    "    for producto in self.inventario:\n",
    "    valor_producto = producto[\"precio\"] * producto[\"cantidad\"])\n",
    "     valor_total += valor_producto                                 \n"
   ]
  },
  {
   "cell_type": "code",
   "execution_count": null,
   "metadata": {},
   "outputs": [],
   "source": []
  },
  {
   "cell_type": "code",
   "execution_count": null,
   "metadata": {},
   "outputs": [],
   "source": []
  }
 ],
 "metadata": {
  "kernelspec": {
   "display_name": "base",
   "language": "python",
   "name": "python3"
  },
  "language_info": {
   "codemirror_mode": {
    "name": "ipython",
    "version": 3
   },
   "file_extension": ".py",
   "mimetype": "text/x-python",
   "name": "python",
   "nbconvert_exporter": "python",
   "pygments_lexer": "ipython3",
   "version": "3.12.7"
  }
 },
 "nbformat": 4,
 "nbformat_minor": 2
}
