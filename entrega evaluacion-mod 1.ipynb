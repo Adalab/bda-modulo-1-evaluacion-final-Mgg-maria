{
 "cells": [
  {
   "cell_type": "markdown",
   "metadata": {},
   "source": [
    "En el siguiente código creamos una clase con los siguientes métodos:\n",
    "- agregar_producto\n",
    "- ver_inventario\n",
    "- buscar_producto\n",
    "- actualizar_stock\n",
    "- eliminar_producto\n",
    "- calcular_valor_inventario\n",
    "\n",
    "\n"
   ]
  },
  {
   "cell_type": "code",
   "execution_count": 1,
   "metadata": {},
   "outputs": [],
   "source": [
    "class TiendaOnline:                                                                # Creamos la clase TiendaOnline            \n",
    "    def __init__(self):                                                            # Método constructor. En este caso no añadimos parámetros \n",
    "\n",
    " \n",
    "        self.inventario =  []                                                      # El atributo inventario tiene que ser una LISTA en la que habrá diccionarios.              \n",
    "        self.ventas_totales = float()                                              # El atributo ventas_totales debe de ser un decimal, así que cambiamos el dato a tipo float.    \n",
    "\n",
    "    # Definimos el método agregar_producto                                  \n",
    "    def agregar_producto (self, nombre, precio, cantidad):                         # Con este método queremos agregar un producto al inventario o actualizar su cantidad si ya existe                                                                          \n",
    "\n",
    "                                                                                  \n",
    "            for producto in self.inventario:\n",
    "\n",
    "        # Si el nombre del producto existe, actualizamos la cantidad.\n",
    "               \n",
    "                if producto[\"nombre\"] == nombre:                                         # Accedemos al \"nombre\" de nuestro producto (key del dict) para ver si existe.\n",
    "                    producto[\"cantidad\"] += cantidad                                     # Aquí sumamos la cantidad nueva al producto existente \n",
    "                    return (f\"El producto ya existe. Cantidad total actual: {producto['cantidad']}\") # Accedemos directamente al diccionario que contiene el producto y actualizamos el valor de la clave 'cantidad'                                                                              \n",
    "\n",
    "        # Si no existe, indicamos que añada un nuevo producto. Creamos la variable producto_nuevo para almacenarlo.\n",
    "                                                                                                                                                                                                          \n",
    "            producto_nuevo = {'nombre': nombre, 'precio': precio, 'cantidad': cantidad}\n",
    "            self.inventario.append(producto_nuevo)                                         \n",
    "\n",
    "    \n",
    "    # Definimos el método ver_inventario                                                 # Con este método queremos mostrar el inventario de productos con sus detalles.\n",
    "    def ver_inventario(self):\n",
    "            \n",
    "            for producto in self.inventario:  \n",
    "                print(producto)                                                          # En cada iteración se imprimirá cada producto de la lista self.inventario                               \n",
    "\n",
    "                \n",
    "                                              \n",
    "\n",
    "    # Definimos el método buscar_producto:\n",
    "    def buscar_producto(self, nombre):                                                   # Con este método queremos buscar un producto en el inventario por nombre y mostrar sus detalles\n",
    "\n",
    "        for producto in self.inventario:\n",
    "\n",
    "        # Si el nombre del producto que se ingrese se encuentra, devolverá los detalles del producto.\n",
    "            \n",
    "            if producto[\"nombre\"] == nombre:   \n",
    "                return(producto)  \n",
    "\n",
    "        # Si no se encuentra, devolverá el mensaje \"Producto no encontrado\"                 \n",
    "\n",
    "            return (\"Producto no encontrado\")            \n",
    "\n",
    "\n",
    "  \n",
    "    # Definimos el método actualizar_stock:                                               # Con este método queremos actualiza el stock de un producto en el inventario buscando por nombre y cantidad.\n",
    "    def actualizar_stock(self, nombre, cantidad):\n",
    "    \n",
    "        for producto in self.inventario:\n",
    "\n",
    "        # Si el producto está, actualizamos la cantidad.\n",
    "            \n",
    "            if producto[\"nombre\"] == nombre:                                           # Buscamos por el nombre del producto en inventario\n",
    "                producto['cantidad'] += cantidad                                       # Si está, indicamos que el valor de la key \"cantidad\" varía\n",
    "                print(f\"El stock actualizado de {nombre} es {producto[\"cantidad\"]}\")   # Imprimimos la cantidad actual de stock\n",
    "                return                                                                 \n",
    "            \n",
    "        # Si el producto no está, se imprime el mensaje \"El producto no está en el inventario\"\n",
    "\n",
    "        print(\"El producto no está en el inventario\")\n",
    "\n",
    "\n",
    "    # Definimos el método eliminar_producto:    \n",
    "    def eliminar_producto(self, nombre):\n",
    "\n",
    "        for producto in self.inventario:\n",
    "\n",
    "        # Si el producto existe (buscamos por nombre) lo eliminamos utilizando .remove  \n",
    "          \n",
    "            if producto[\"nombre\"] == nombre:                                                  \n",
    "                self.inventario.remove(producto)\n",
    "                return \n",
    "                 \n",
    "        # Si no existe el producto, se imprimirá el siguiente mensaje. \n",
    "                                                                                     \n",
    "        print(\"El producto no puede eliminarse ya que no se encuentra en el inventario\")  \n",
    "\n",
    "    \n",
    "    # Definimos el método calcular_valor_inventario: \n",
    "    def calcular_valor_inventario(self):                                                      # Con este método queremos calcular y mostrar el valor total del inventario\n",
    "\n",
    "        valor_total = 0                                                                       # Creamos una variable llamada valor_total que sumará el total del inventario \n",
    "\n",
    "        for producto in self.inventario:\n",
    "            valor_producto = producto[\"precio\"] * producto[\"cantidad\"]                        # Se crea una variable que albergue el resultado del precio * cantidad \n",
    "            valor_total += valor_producto                                                     # Sumamos el valor del producto al total\n",
    "        \n",
    "        return valor_total                                                                    # Nos devuelve el resultado de valor_total tras la operación  \n",
    "\n",
    "\n",
    "\n",
    "\n",
    "\n",
    "\n",
    "\n",
    "            "
   ]
  },
  {
   "cell_type": "code",
   "execution_count": null,
   "metadata": {},
   "outputs": [],
   "source": [
    "\n"
   ]
  },
  {
   "cell_type": "markdown",
   "metadata": {},
   "source": [
    "Prueba método agregar producto              \n"
   ]
  },
  {
   "cell_type": "code",
   "execution_count": null,
   "metadata": {},
   "outputs": [
    {
     "data": {
      "text/plain": [
       "{'inventario': [], 'ventas_totales': 0.0}"
      ]
     },
     "execution_count": 2,
     "metadata": {},
     "output_type": "execute_result"
    }
   ],
   "source": [
    "# Creamos un objeto (instancia) de la clase TiendaOnline\n",
    "# Luego accedemos a los atributos de la clase\n",
    "\n",
    "dulces = TiendaOnline()\n",
    "dulces.__dict__"
   ]
  },
  {
   "cell_type": "code",
   "execution_count": null,
   "metadata": {},
   "outputs": [],
   "source": [
    "# Agregamos productos por nombre, precio y cantidad (atributos asignados en el método)\n",
    "\n",
    "dulces.agregar_producto (\"magdalenas\", 3.75, 20)\n",
    "dulces.agregar_producto(\"bombones\", 1.10, 50)\n",
    "dulces.agregar_producto(\"galletas\", 2.50, 30)\n",
    "dulces.agregar_producto(\"churros\", 1, 20)"
   ]
  },
  {
   "cell_type": "code",
   "execution_count": null,
   "metadata": {},
   "outputs": [
    {
     "data": {
      "text/plain": [
       "[{'nombre': 'magdalenas', 'precio': 3.75, 'cantidad': 20},\n",
       " {'nombre': 'bombones', 'precio': 1.1, 'cantidad': 50},\n",
       " {'nombre': 'galletas', 'precio': 2.5, 'cantidad': 30},\n",
       " {'nombre': 'churros', 'precio': 1, 'cantidad': 20}]"
      ]
     },
     "execution_count": 5,
     "metadata": {},
     "output_type": "execute_result"
    }
   ],
   "source": [
    "# Imprimimos el inventario para ver el resultado\n",
    "\n",
    "dulces.inventario"
   ]
  },
  {
   "cell_type": "code",
   "execution_count": null,
   "metadata": {},
   "outputs": [],
   "source": []
  },
  {
   "cell_type": "code",
   "execution_count": null,
   "metadata": {},
   "outputs": [],
   "source": []
  }
 ],
 "metadata": {
  "kernelspec": {
   "display_name": "base",
   "language": "python",
   "name": "python3"
  },
  "language_info": {
   "codemirror_mode": {
    "name": "ipython",
    "version": 3
   },
   "file_extension": ".py",
   "mimetype": "text/x-python",
   "name": "python",
   "nbconvert_exporter": "python",
   "pygments_lexer": "ipython3",
   "version": "3.12.7"
  }
 },
 "nbformat": 4,
 "nbformat_minor": 2
}
