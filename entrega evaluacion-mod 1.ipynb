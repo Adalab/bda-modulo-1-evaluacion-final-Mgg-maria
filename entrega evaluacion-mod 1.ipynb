{
 "cells": [
  {
   "cell_type": "markdown",
   "metadata": {},
   "source": [
    "En el siguiente código creamos una clase con los siguientes métodos:\n",
    "- agregar_producto\n",
    "- ver_inventario\n",
    "- buscar_producto\n",
    "- actualizar_stock\n",
    "- eliminar_producto\n",
    "- calcular_valor_inventario\n",
    "\n",
    "\n"
   ]
  },
  {
   "cell_type": "code",
   "execution_count": null,
   "metadata": {},
   "outputs": [],
   "source": [
    "class TiendaOnline:                                                                # Creamos la clase TiendaOnline            \n",
    "    def __init__(self):                                                            # Método constructor. En este caso no añadimos parámetros \n",
    "\n",
    " \n",
    "        self.inventario =  []                                                      # El atributo inventario tiene que ser una LISTA en la que habrá diccionarios.              \n",
    "        self.ventas_totales = float()                                              # El atributo ventas_totales debe de ser un decimal, así que cambiamos el dato a tipo float.    \n",
    "\n",
    "    # Definimos el método agregar_producto                                  \n",
    "    def agregar_producto (self, nombre, precio, cantidad):                         # Añadimos como parámetros nombre, precio, cantidad\n",
    "\n",
    "                                                                                  \n",
    "            for producto in self.inventario:\n",
    "                if producto[\"nombre\"] == nombre:                                        # Indexamos para acceder al \"nombre\" de nuestro producto(key del dict) con producto [\"nombre\"] y ver si existe\n",
    "                    producto[\"cantidad\"] += cantidad                                    # Aquí sumamos la cantidad nueva al producto existente \n",
    "                    return (f\"El producto ya existe. Cantidad total actual: {cantidad}\")  # Accedemos directamente al diccionario que contiene el producto y actualizamos el valor de la clave 'cantidad'.                                                                              \n",
    "\n",
    "        # Si no existe, indicamos que añada un nuevo producto. Creamos la variable producto_nuevo para almacenarlo (si el valor asociado a la key \"nombre\" del producto no es igual al nombre que ingresemos):\n",
    "                                                                                                                                                                                                          \n",
    "            producto_nuevo = {'nombre': nombre, 'precio': precio, 'cantidad': cantidad}\n",
    "            self.inventario.append(producto_nuevo)                                         \n",
    "\n",
    "    \n",
    "    # Definimos el método ver_inventario\n",
    "    def ver_inventario(self):\n",
    "            \n",
    "            for producto in self.inventario:  \n",
    "                print(producto)                # En cada iteración se imprimirá cada producto de la lista self.inventario\n",
    "\n",
    "                \n",
    "                                              \n",
    "\n",
    "    # Definimos el método buscar_producto:\n",
    "    def buscar_producto(self, nombre):\n",
    "\n",
    "        for producto in self.inventario:\n",
    "            if producto[\"nombre\"] == nombre:   # La condición nos indica que si la key \"nombre\" de nuestro producto tiene como valor el nombre que ingresamos se\n",
    "                return(producto)                # imprimirán los detalles del producto\n",
    "\n",
    "            return (f\"Producto no encontrado\")            \n",
    "\n",
    "\n",
    "  \n",
    "    # Definimos el método actualizar_stock:\n",
    "    def actualizar_stock(self, nombre, cantidad):\n",
    "    \n",
    "        for producto in self.inventario:\n",
    "            if producto[\"nombre\"] == nombre:                                           # Buscamos por el nombre del producto en inventario\n",
    "                producto['cantidad'] += cantidad                                       # Si está, indicamos que el valor de la key \"cantidad\" varía\n",
    "                print(f\"El stock actualizado de {nombre} es {producto[\"cantidad\"]}\")   # Imprimimos la cantidad actual de stock\n",
    "                return\n",
    "            \n",
    "        print(f\"El producto no está en el inventario\")\n",
    "\n",
    "\n",
    "    # Definimos el método eliminar_producto:    \n",
    "    def eliminar_producto(self, nombre):\n",
    "\n",
    "        for producto in self.inventario:\n",
    "            if producto[\"nombre\"] == nombre:                                                  # Si el producto existe (buscamos por nombre) lo eliminamos utilizando .remove\n",
    "                self.inventario.remove(producto)\n",
    "                return      \n",
    "                                                                                        \n",
    "        print(\"El producto no puede eliminarse ya que no se encuentra en el inventario\")  # Si no existe el producto(buscamos por nombre) imprimiremos el siguiente mensaje\n",
    "\n",
    "    \n",
    "    # Definimos el método calcular_valor_inventario: \n",
    "    def calcular_valor_inventario(self):                                                     # Con este método queremos calcular y mostrar el valor total del inventario\n",
    "\n",
    "        valor_total = 0                                                                       # Creamos una variable llamada valor_total que sumará el total del inventario \n",
    "\n",
    "        for producto in self.inventario:\n",
    "            valor_producto = producto[\"precio\"] * producto[\"cantidad\"]                        # Se crea una variable que albergue el resultado del precio * cantidad \n",
    "            valor_total += valor_producto                                                         # Sumamos el valor del producto al total\n",
    "        \n",
    "        return valor_total                                                     \n",
    "\n",
    "\n",
    "\n",
    "\n",
    "\n",
    "\n",
    "\n",
    "            "
   ]
  },
  {
   "cell_type": "code",
   "execution_count": null,
   "metadata": {},
   "outputs": [],
   "source": [
    "\n"
   ]
  },
  {
   "cell_type": "code",
   "execution_count": null,
   "metadata": {},
   "outputs": [],
   "source": [
    "\n",
    "                    \n"
   ]
  },
  {
   "cell_type": "code",
   "execution_count": null,
   "metadata": {},
   "outputs": [],
   "source": []
  },
  {
   "cell_type": "code",
   "execution_count": null,
   "metadata": {},
   "outputs": [],
   "source": []
  }
 ],
 "metadata": {
  "kernelspec": {
   "display_name": "base",
   "language": "python",
   "name": "python3"
  },
  "language_info": {
   "codemirror_mode": {
    "name": "ipython",
    "version": 3
   },
   "file_extension": ".py",
   "mimetype": "text/x-python",
   "name": "python",
   "nbconvert_exporter": "python",
   "pygments_lexer": "ipython3",
   "version": "3.12.7"
  }
 },
 "nbformat": 4,
 "nbformat_minor": 2
}
