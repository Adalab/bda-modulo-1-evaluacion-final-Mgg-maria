{
 "cells": [
  {
   "cell_type": "code",
   "execution_count": 1,
   "metadata": {},
   "outputs": [],
   "source": [
    "class TiendaOnline:                                                                # Creamos la clase TiendaOnline            \n",
    "    def __init__(self):                                                            # Método constructor.  \n",
    "\n",
    " \n",
    "        self.inventario =  []                                                      # El atributo inventario tiene que ser una LISTA en la que habrá diccionarios.              \n",
    "        self.ventas_totales = float()                                              # El atributo ventas_totales debe de ser un decimal, así que cambiamos el dato a tipo float.    \n",
    "\n",
    "    # Definimos el método agregar_producto                                  \n",
    "    def agregar_producto (self, nombre, precio, cantidad):                         # Con este método queremos agregar un producto al inventario o actualizar su cantidad si ya existe                                                                          \n",
    "\n",
    "                                                                                  \n",
    "            for producto in self.inventario:\n",
    "\n",
    "        # Si el nombre del producto existe, actualizamos la cantidad.\n",
    "               \n",
    "                if producto[\"nombre\"] == nombre:                                         # Accedemos al \"nombre\" de nuestro producto (key del dict) para ver si existe.\n",
    "                    producto[\"cantidad\"] += cantidad                                     # Aquí sumamos la cantidad nueva al producto existente \n",
    "                    return (f\"El producto ya existe. Cantidad total actual: {producto['cantidad']}\") # Accedemos directamente al diccionario que contiene el producto y actualizamos el valor de la clave 'cantidad'                                                                              \n",
    "\n",
    "        # Si no existe, indicamos que añada un nuevo producto. Creamos la variable producto_nuevo para almacenarlo.\n",
    "                                                                                                                                                                                                          \n",
    "            producto_nuevo = {'nombre': nombre, 'precio': precio, 'cantidad': cantidad}\n",
    "            self.inventario.append(producto_nuevo)                                         \n",
    "\n",
    "    \n",
    "    # Definimos el método ver_inventario                                                 # Con este método queremos mostrar el inventario de productos con sus detalles.\n",
    "    def ver_inventario(self):\n",
    "            \n",
    "            for producto in self.inventario:  \n",
    "                print(producto)                                                          # En cada iteración se imprimirá cada producto de la lista self.inventario                               \n",
    "\n",
    "                \n",
    "                                              \n",
    "\n",
    "    # Definimos el método buscar_producto:\n",
    "    def buscar_producto(self, nombre):                                                   # Con este método queremos buscar un producto en el inventario por nombre y mostrar sus detalles\n",
    "\n",
    "        for producto in self.inventario:\n",
    "\n",
    "        # Si el nombre del producto que se ingrese se encuentra, devolverá los detalles del producto.\n",
    "            \n",
    "            if producto[\"nombre\"] == nombre:   \n",
    "                return(producto)  \n",
    "\n",
    "        # Si no se encuentra, devolverá el mensaje \"Producto no encontrado\"                 \n",
    "\n",
    "        return (\"Producto no encontrado\")            \n",
    "\n",
    "\n",
    "  \n",
    "    # Definimos el método actualizar_stock:                                               # Con este método queremos actualizar el stock de un producto en el inventario buscando por nombre y cantidad.\n",
    "    def actualizar_stock(self, nombre, cantidad):\n",
    "    \n",
    "        for producto in self.inventario:\n",
    "\n",
    "        # Si el producto está, actualizamos la cantidad.\n",
    "            \n",
    "            if producto[\"nombre\"] == nombre:                                           # Buscamos por el nombre del producto en inventario\n",
    "                producto['cantidad'] += cantidad                                       # Si está, indicamos que el valor de la key \"cantidad\" varía\n",
    "                return(f\"El stock actualizado de {nombre} es {producto[\"cantidad\"]}\")   # Imprimimos la cantidad actual de stock\n",
    "                                                                                \n",
    "            \n",
    "        # Si el producto no está, se imprime el mensaje \"El producto no está en el inventario\"\n",
    "\n",
    "        print(\"El producto no está en el inventario\")\n",
    "\n",
    "\n",
    "    # Definimos el método eliminar_producto:    \n",
    "    def eliminar_producto(self, nombre):\n",
    "\n",
    "        for producto in self.inventario:\n",
    "\n",
    "        # Si el producto existe (buscamos por nombre) lo eliminamos utilizando .remove  \n",
    "          \n",
    "            if producto[\"nombre\"] == nombre:                                                  \n",
    "                self.inventario.remove(producto)\n",
    "                return \n",
    "                 \n",
    "        # Si no existe el producto, se imprimirá el siguiente mensaje. \n",
    "                                                                                     \n",
    "        print(\"El producto no puede eliminarse ya que no se encuentra en el inventario\")  \n",
    "\n",
    "    \n",
    "    # Definimos el método calcular_valor_inventario: \n",
    "    def calcular_valor_inventario(self):                                                      # Con este método queremos calcular y mostrar el valor total del inventario\n",
    "\n",
    "        valor_total = 0                                                                       # Creamos una variable llamada valor_total que sumará el total del inventario \n",
    "\n",
    "        for producto in self.inventario:\n",
    "            valor_producto = producto[\"precio\"] * producto[\"cantidad\"]                        # Se crea una variable que albergue el resultado del precio * cantidad \n",
    "            valor_total += valor_producto                                                     # Sumamos el valor del producto al total\n",
    "        \n",
    "        return valor_total                                                                    # Nos devuelve el resultado de valor_total tras la operación  \n",
    "\n",
    "\n",
    "\n",
    "\n",
    "\n",
    "\n",
    "\n",
    "            "
   ]
  },
  {
   "cell_type": "code",
   "execution_count": null,
   "metadata": {},
   "outputs": [],
   "source": [
    "\n"
   ]
  },
  {
   "cell_type": "markdown",
   "metadata": {},
   "source": [
    "Prueba método agregar producto              \n"
   ]
  },
  {
   "cell_type": "code",
   "execution_count": 2,
   "metadata": {},
   "outputs": [
    {
     "data": {
      "text/plain": [
       "{'inventario': [], 'ventas_totales': 0.0}"
      ]
     },
     "execution_count": 2,
     "metadata": {},
     "output_type": "execute_result"
    }
   ],
   "source": [
    "# Creamos un objeto (instancia) de la clase TiendaOnline\n",
    "# Luego accedemos a los atributos de la clase\n",
    "\n",
    "dulces = TiendaOnline()\n",
    "dulces.__dict__"
   ]
  },
  {
   "cell_type": "code",
   "execution_count": 3,
   "metadata": {},
   "outputs": [],
   "source": [
    "# Agregamos productos por nombre, precio y cantidad (parámetros asignados en el método)\n",
    "\n",
    "dulces.agregar_producto (\"magdalenas\", 3.75, 20)\n",
    "dulces.agregar_producto(\"bombones\", 1.10, 50)\n",
    "dulces.agregar_producto(\"galletas\", 2.50, 30)\n",
    "dulces.agregar_producto(\"churros\", 1, 20)"
   ]
  },
  {
   "cell_type": "code",
   "execution_count": 4,
   "metadata": {},
   "outputs": [
    {
     "data": {
      "text/plain": [
       "[{'nombre': 'magdalenas', 'precio': 3.75, 'cantidad': 20},\n",
       " {'nombre': 'bombones', 'precio': 1.1, 'cantidad': 50},\n",
       " {'nombre': 'galletas', 'precio': 2.5, 'cantidad': 30},\n",
       " {'nombre': 'churros', 'precio': 1, 'cantidad': 20}]"
      ]
     },
     "execution_count": 4,
     "metadata": {},
     "output_type": "execute_result"
    }
   ],
   "source": [
    "# Imprimimos el inventario para ver el resultado\n",
    "\n",
    "dulces.inventario"
   ]
  },
  {
   "cell_type": "code",
   "execution_count": 5,
   "metadata": {},
   "outputs": [
    {
     "data": {
      "text/plain": [
       "'El producto ya existe. Cantidad total actual: 40'"
      ]
     },
     "execution_count": 5,
     "metadata": {},
     "output_type": "execute_result"
    }
   ],
   "source": [
    "dulces.agregar_producto (\"magdalenas\", 3.75, 20)"
   ]
  },
  {
   "cell_type": "markdown",
   "metadata": {},
   "source": [
    "Prueba método ver inventario"
   ]
  },
  {
   "cell_type": "code",
   "execution_count": 9,
   "metadata": {},
   "outputs": [
    {
     "data": {
      "text/plain": [
       "{'inventario': [], 'ventas_totales': 0.0}"
      ]
     },
     "execution_count": 9,
     "metadata": {},
     "output_type": "execute_result"
    }
   ],
   "source": [
    "tienda = TiendaOnline()\n",
    "tienda.__dict__"
   ]
  },
  {
   "cell_type": "code",
   "execution_count": 11,
   "metadata": {},
   "outputs": [],
   "source": [
    "tienda.agregar_producto (\"peras\", 1.20, 50)\n",
    "tienda.agregar_producto (\"piñas\", 3, 60)\n",
    "tienda.agregar_producto (\"cerezas\", 1.10, 83)\n",
    "tienda.agregar_producto (\"fresas\", 2.74, 150)"
   ]
  },
  {
   "cell_type": "code",
   "execution_count": 13,
   "metadata": {},
   "outputs": [
    {
     "name": "stdout",
     "output_type": "stream",
     "text": [
      "{'nombre': 'peras', 'precio': 1.2, 'cantidad': 50}\n",
      "{'nombre': 'piñas', 'precio': 3, 'cantidad': 60}\n",
      "{'nombre': 'cerezas', 'precio': 1.1, 'cantidad': 83}\n",
      "{'nombre': 'fresas', 'precio': 2.74, 'cantidad': 150}\n"
     ]
    }
   ],
   "source": [
    "tienda.ver_inventario()"
   ]
  },
  {
   "cell_type": "markdown",
   "metadata": {},
   "source": [
    "Prueba método buscar producto"
   ]
  },
  {
   "cell_type": "code",
   "execution_count": 7,
   "metadata": {},
   "outputs": [
    {
     "data": {
      "text/plain": [
       "{'inventario': [], 'ventas_totales': 0.0}"
      ]
     },
     "execution_count": 7,
     "metadata": {},
     "output_type": "execute_result"
    }
   ],
   "source": [
    "materiales = TiendaOnline()\n",
    "materiales.__dict__"
   ]
  },
  {
   "cell_type": "code",
   "execution_count": 8,
   "metadata": {},
   "outputs": [],
   "source": [
    "materiales.agregar_producto(\"tornillos\", 0.99, 25)\n",
    "materiales.agregar_producto(\"mazos\", 5, 5)\n",
    "materiales.agregar_producto(\"llaves\", 2.12, 40)\n",
    "materiales.agregar_producto(\"destornilladores\", 2.98, 20)"
   ]
  },
  {
   "cell_type": "code",
   "execution_count": 9,
   "metadata": {},
   "outputs": [
    {
     "data": {
      "text/plain": [
       "{'inventario': [{'nombre': 'tornillos', 'precio': 0.99, 'cantidad': 25},\n",
       "  {'nombre': 'mazos', 'precio': 5, 'cantidad': 5},\n",
       "  {'nombre': 'llaves', 'precio': 2.12, 'cantidad': 40},\n",
       "  {'nombre': 'destornilladores', 'precio': 2.98, 'cantidad': 20}],\n",
       " 'ventas_totales': 0.0}"
      ]
     },
     "execution_count": 9,
     "metadata": {},
     "output_type": "execute_result"
    }
   ],
   "source": [
    "materiales.__dict__"
   ]
  },
  {
   "cell_type": "code",
   "execution_count": 10,
   "metadata": {},
   "outputs": [
    {
     "data": {
      "text/plain": [
       "{'nombre': 'llaves', 'precio': 2.12, 'cantidad': 40}"
      ]
     },
     "execution_count": 10,
     "metadata": {},
     "output_type": "execute_result"
    }
   ],
   "source": [
    "materiales.buscar_producto(\"llaves\")"
   ]
  },
  {
   "cell_type": "code",
   "execution_count": 11,
   "metadata": {},
   "outputs": [
    {
     "data": {
      "text/plain": [
       "'Producto no encontrado'"
      ]
     },
     "execution_count": 11,
     "metadata": {},
     "output_type": "execute_result"
    }
   ],
   "source": [
    "materiales.buscar_producto(\"churros\")"
   ]
  },
  {
   "cell_type": "markdown",
   "metadata": {},
   "source": [
    "Prueba método actualizar_stock"
   ]
  },
  {
   "cell_type": "code",
   "execution_count": 12,
   "metadata": {},
   "outputs": [
    {
     "data": {
      "text/plain": [
       "{'inventario': [], 'ventas_totales': 0.0}"
      ]
     },
     "execution_count": 12,
     "metadata": {},
     "output_type": "execute_result"
    }
   ],
   "source": [
    "equipamiento = TiendaOnline()\n",
    "equipamiento.__dict__"
   ]
  },
  {
   "cell_type": "code",
   "execution_count": 13,
   "metadata": {},
   "outputs": [],
   "source": [
    "equipamiento.agregar_producto(\"mancuernas\", 32.20, 45)\n",
    "equipamiento.agregar_producto(\"discos\", 5, 35)\n",
    "equipamiento.agregar_producto(\"elípticas\", 550, 40)\n",
    "equipamiento.agregar_producto(\"barras\", 75, 20)"
   ]
  },
  {
   "cell_type": "code",
   "execution_count": 14,
   "metadata": {},
   "outputs": [
    {
     "data": {
      "text/plain": [
       "[{'nombre': 'mancuernas', 'precio': 32.2, 'cantidad': 45},\n",
       " {'nombre': 'discos', 'precio': 5, 'cantidad': 35},\n",
       " {'nombre': 'elípticas', 'precio': 550, 'cantidad': 40},\n",
       " {'nombre': 'barras', 'precio': 75, 'cantidad': 20}]"
      ]
     },
     "execution_count": 14,
     "metadata": {},
     "output_type": "execute_result"
    }
   ],
   "source": [
    "equipamiento.inventario"
   ]
  },
  {
   "cell_type": "code",
   "execution_count": 15,
   "metadata": {},
   "outputs": [
    {
     "data": {
      "text/plain": [
       "'El stock actualizado de barras es 45'"
      ]
     },
     "execution_count": 15,
     "metadata": {},
     "output_type": "execute_result"
    }
   ],
   "source": [
    "equipamiento.actualizar_stock(\"barras\", 25)"
   ]
  },
  {
   "cell_type": "markdown",
   "metadata": {},
   "source": [
    "Prueba método eliminar producto"
   ]
  },
  {
   "cell_type": "code",
   "execution_count": 16,
   "metadata": {},
   "outputs": [
    {
     "data": {
      "text/plain": [
       "{'inventario': [], 'ventas_totales': 0.0}"
      ]
     },
     "execution_count": 16,
     "metadata": {},
     "output_type": "execute_result"
    }
   ],
   "source": [
    "moviles = TiendaOnline()\n",
    "moviles.__dict__"
   ]
  },
  {
   "cell_type": "code",
   "execution_count": 17,
   "metadata": {},
   "outputs": [],
   "source": [
    "moviles.agregar_producto(\"iphones16\", 1100, 100)\n",
    "moviles.agregar_producto(\"samsungpro\", 987, 100)\n",
    "moviles.agregar_producto(\"huaweimax\", 430, 30)\n",
    "moviles.agregar_producto(\"xiaomired\", 550, 80)"
   ]
  },
  {
   "cell_type": "code",
   "execution_count": 18,
   "metadata": {},
   "outputs": [
    {
     "data": {
      "text/plain": [
       "{'inventario': [{'nombre': 'iphones16', 'precio': 1100, 'cantidad': 100},\n",
       "  {'nombre': 'samsungpro', 'precio': 987, 'cantidad': 100},\n",
       "  {'nombre': 'huaweimax', 'precio': 430, 'cantidad': 30},\n",
       "  {'nombre': 'xiaomired', 'precio': 550, 'cantidad': 80}],\n",
       " 'ventas_totales': 0.0}"
      ]
     },
     "execution_count": 18,
     "metadata": {},
     "output_type": "execute_result"
    }
   ],
   "source": [
    "moviles.__dict__"
   ]
  },
  {
   "cell_type": "code",
   "execution_count": 20,
   "metadata": {},
   "outputs": [],
   "source": [
    "# El producto no se elimina porque el valor del producto es \"huaweimax\"\n",
    "moviles.eliminar_producto(\"huaweimax\")"
   ]
  },
  {
   "cell_type": "code",
   "execution_count": 21,
   "metadata": {},
   "outputs": [
    {
     "data": {
      "text/plain": [
       "{'inventario': [{'nombre': 'iphones16', 'precio': 1100, 'cantidad': 100},\n",
       "  {'nombre': 'samsungpro', 'precio': 987, 'cantidad': 100},\n",
       "  {'nombre': 'xiaomired', 'precio': 550, 'cantidad': 80}],\n",
       " 'ventas_totales': 0.0}"
      ]
     },
     "execution_count": 21,
     "metadata": {},
     "output_type": "execute_result"
    }
   ],
   "source": [
    "moviles.__dict__"
   ]
  },
  {
   "cell_type": "markdown",
   "metadata": {},
   "source": [
    "Prueba método calcular valor inventario"
   ]
  },
  {
   "cell_type": "code",
   "execution_count": 22,
   "metadata": {},
   "outputs": [
    {
     "data": {
      "text/plain": [
       "{'inventario': [], 'ventas_totales': 0.0}"
      ]
     },
     "execution_count": 22,
     "metadata": {},
     "output_type": "execute_result"
    }
   ],
   "source": [
    "refrescos = TiendaOnline()\n",
    "refrescos.__dict__"
   ]
  },
  {
   "cell_type": "code",
   "execution_count": 23,
   "metadata": {},
   "outputs": [],
   "source": [
    "refrescos.agregar_producto(\"cocacolas\", 3.50, 200)\n",
    "refrescos.agregar_producto(\"nesteas\", 2.20, 100)\n",
    "refrescos.agregar_producto(\"sprites\", 2.20, 85)\n",
    "refrescos.agregar_producto(\"fantas\", 3.15, 150)"
   ]
  },
  {
   "cell_type": "code",
   "execution_count": 24,
   "metadata": {},
   "outputs": [
    {
     "data": {
      "text/plain": [
       "{'inventario': [{'nombre': 'cocacolas', 'precio': 3.5, 'cantidad': 200},\n",
       "  {'nombre': 'nesteas', 'precio': 2.2, 'cantidad': 100},\n",
       "  {'nombre': 'sprites', 'precio': 2.2, 'cantidad': 85},\n",
       "  {'nombre': 'fantas', 'precio': 3.15, 'cantidad': 150}],\n",
       " 'ventas_totales': 0.0}"
      ]
     },
     "execution_count": 24,
     "metadata": {},
     "output_type": "execute_result"
    }
   ],
   "source": [
    "refrescos.__dict__"
   ]
  },
  {
   "cell_type": "code",
   "execution_count": 25,
   "metadata": {},
   "outputs": [
    {
     "data": {
      "text/plain": [
       "1579.5"
      ]
     },
     "execution_count": 25,
     "metadata": {},
     "output_type": "execute_result"
    }
   ],
   "source": [
    "# Hace la suma de (precio * cantidad) de cada producto, es decir (precio * cantidad) + (precio * cantidad) + (precio * cantidad), etc\n",
    "refrescos.calcular_valor_inventario()"
   ]
  }
 ],
 "metadata": {
  "kernelspec": {
   "display_name": "base",
   "language": "python",
   "name": "python3"
  },
  "language_info": {
   "codemirror_mode": {
    "name": "ipython",
    "version": 3
   },
   "file_extension": ".py",
   "mimetype": "text/x-python",
   "name": "python",
   "nbconvert_exporter": "python",
   "pygments_lexer": "ipython3",
   "version": "3.12.7"
  }
 },
 "nbformat": 4,
 "nbformat_minor": 2
}
